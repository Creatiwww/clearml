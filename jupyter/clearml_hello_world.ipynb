{
 "cells": [
  {
   "cell_type": "markdown",
   "id": "35e30a17",
   "metadata": {},
   "source": [
    "# ClearML - Hello World"
   ]
  },
  {
   "cell_type": "markdown",
   "id": "8219e7a8",
   "metadata": {},
   "source": [
    "based on: https://habr.com/ru/articles/691314/"
   ]
  },
  {
   "cell_type": "code",
   "execution_count": null,
   "id": "ff2f235a",
   "metadata": {},
   "outputs": [],
   "source": [
    "# configure ClearML connection\n",
    "%env CLEARML_WEB_HOST=http://app.<host>\n",
    "%env CLEARML_API_HOST=http://api.<host>\n",
    "%env CLEARML_FILES_HOST=http://files.<host>\n",
    "%env CLEARML_API_ACCESS_KEY=<access_key>\n",
    "%env CLEARML_API_SECRET_KEY=<secret_key>"
   ]
  },
  {
   "cell_type": "code",
   "execution_count": 8,
   "id": "04e1f764-770b-48df-8556-8fc39828c9c5",
   "metadata": {},
   "outputs": [],
   "source": [
    "import time\n",
    "import pandas as pd\n",
    "import numpy as np\n",
    "from clearml import Task, Logger\n",
    "import seaborn as sns\n",
    "import matplotlib.pyplot as plt\n",
    "from sklearn.model_selection import train_test_split, ParameterSampler\n",
    "from catboost import CatBoostClassifier, Pool\n",
    "from sklearn.metrics import roc_auc_score "
   ]
  },
  {
   "cell_type": "code",
   "execution_count": null,
   "id": "decbf68a-c077-40ca-875e-e23b5f6f8276",
   "metadata": {},
   "outputs": [],
   "source": [
    "# initiate new session\n",
    "unique_key = round(time.time() * 1000)\n",
    "task = Task.init(\n",
    "    project_name='TestProject', \n",
    "    task_name='HelloWorld_{}'.format(unique_key), \n",
    "    tags=['CatBoost','RandomSearch'])"
   ]
  },
  {
   "cell_type": "code",
   "execution_count": null,
   "id": "91cfa5ca",
   "metadata": {},
   "outputs": [],
   "source": [
    "# load datased and sent data to ClearML as artifact\n",
    "fpath = 'titanic.csv'\n",
    "df_raw = pd.read_csv(fpath)\n",
    "\n",
    "task.upload_artifact(name='data.raw', artifact_object=fpath)"
   ]
  },
  {
   "cell_type": "code",
   "execution_count": null,
   "id": "978738db",
   "metadata": {},
   "outputs": [],
   "source": [
    "# ClearML automatically logs all outputs of Matplotlib (tab Scalar at ClearML UI)\n",
    "sns.pairplot(df_raw, hue='Survived')\n",
    "plt.title('Pairplot')\n",
    "plt.show()"
   ]
  },
  {
   "cell_type": "code",
   "execution_count": null,
   "id": "20f0b772",
   "metadata": {},
   "outputs": [],
   "source": [
    "# Datasets could be explored through ClaerML UI\n",
    "df_preproc = df_raw.drop(columns=['PassengerId','Name','Ticket'])\n",
    "for col in ['Sex','Cabin','Embarked']:\n",
    "    df_preproc[col] = df_preproc[col].astype(str)\n",
    "task.upload_artifact(name='data.preproc', artifact_object=df_preproc)\n",
    "\n",
    "train, test = train_test_split(df_preproc, test_size=0.33, random_state=42)\n",
    "task.upload_artifact(name='data.train', artifact_object=train)\n",
    "task.upload_artifact(name='data.test', artifact_object=test)"
   ]
  },
  {
   "cell_type": "code",
   "execution_count": null,
   "id": "32270add",
   "metadata": {},
   "outputs": [],
   "source": [
    "# ClaerML logs automatically outputs of popular liobs such as CatBoost (tab Scalars at ClearML UI)\n",
    "X_train = train.drop(columns=['Survived'])\n",
    "y_train = train['Survived']\n",
    "\n",
    "model = CatBoostClassifier(silent=True)\n",
    "model.fit(X_train, y_train, cat_features=['Sex','Cabin','Embarked']);"
   ]
  },
  {
   "cell_type": "code",
   "execution_count": 19,
   "id": "b5df195d",
   "metadata": {},
   "outputs": [],
   "source": [
    "# Let's build the ML model\n",
    "\n",
    "# Сетка для перебора гиперпараметров\n",
    "param_grid = {\n",
    "    'depth': [4,5,6,7,8],\n",
    "    'learning_rate': [0.1,0.05,0.01,0.005,0.001],\n",
    "    'iterations': [30,50,100,150]\n",
    "}\n",
    "\n",
    "# Формируем датасет для тестирования\n",
    "X_test = test.drop(columns=['Survived'])\n",
    "y_test = test['Survived']\n",
    "\n",
    "# Инциируем объект логирования\n",
    "log = Logger.current_logger()\n",
    "\n",
    "# Переменные для хранения результатов\n",
    "best_score = 0\n",
    "best_model = None\n",
    "i = 0\n",
    "\n",
    "# Перебираем случайные 50 гиперпараметров\n",
    "for param in ParameterSampler(param_grid, n_iter=50, random_state=42):\n",
    "    # Обучаем модель\n",
    "    model = CatBoostClassifier(**param, silent=True)\n",
    "    model.fit(X_train, y_train, cat_features=['Sex','Cabin','Embarked'])\n",
    "\n",
    "    # Оцениваем модель\n",
    "    test_scores = model.eval_metrics(\n",
    "        data=Pool(X_test, y_test, cat_features=['Sex','Cabin','Embarked']),\n",
    "        metrics=['Logloss','AUC'])\n",
    "    test_logloss  = round(test_scores['Logloss'][-1], 4)\n",
    "    test_roc_auc = round(test_scores['AUC'][-1]*100, 1)\n",
    "    \n",
    "    train_scores = model.eval_metrics(\n",
    "        data=Pool(X_train, y_train, cat_features=['Sex','Cabin','Embarked']),\n",
    "        metrics=['Logloss','AUC'])\n",
    "    train_logloss  = round(train_scores['Logloss'][-1], 4)\n",
    "    train_roc_auc = round(train_scores['AUC'][-1]*100, 1)\n",
    "\n",
    "    # Сравниваем текущий скор с лучшим\n",
    "    if test_roc_auc > best_score:\n",
    "        # Сохраняем модель\n",
    "        best_score = test_roc_auc\n",
    "        best_model = model\n",
    "\n",
    "        # Записываем метрики в ClearML\n",
    "        log.report_scalar(\"Logloss\", \"Test\", iteration=i, value=test_logloss)\n",
    "        log.report_scalar(\"Logloss\", \"Train\", iteration=i, value=train_logloss)\n",
    "        \n",
    "        log.report_scalar(\"ROC AUC\", \"Test\", iteration=i, value=test_roc_auc)\n",
    "        log.report_scalar(\"ROC AUC\", \"Train\", iteration=i, value=train_roc_auc)\n",
    "        \n",
    "        i+=1"
   ]
  },
  {
   "cell_type": "code",
   "execution_count": 20,
   "id": "3a31d707",
   "metadata": {},
   "outputs": [],
   "source": [
    "# Save Modsel at ClearML\n",
    "best_model.save_model('my_model.cbm')"
   ]
  },
  {
   "cell_type": "code",
   "execution_count": 21,
   "id": "6a0da4c5",
   "metadata": {},
   "outputs": [],
   "source": [
    "# Close task\n",
    "task.close()"
   ]
  }
 ],
 "metadata": {
  "kernelspec": {
   "display_name": "Python 3 (ipykernel)",
   "language": "python",
   "name": "python3"
  },
  "language_info": {
   "codemirror_mode": {
    "name": "ipython",
    "version": 3
   },
   "file_extension": ".py",
   "mimetype": "text/x-python",
   "name": "python",
   "nbconvert_exporter": "python",
   "pygments_lexer": "ipython3",
   "version": "3.11.5"
  }
 },
 "nbformat": 4,
 "nbformat_minor": 5
}
